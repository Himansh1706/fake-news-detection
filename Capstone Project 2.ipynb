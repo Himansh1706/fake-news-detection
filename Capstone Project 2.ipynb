{
 "cells": [
  {
   "cell_type": "markdown",
   "metadata": {},
   "source": [
    "# Capstone Project 2 - Fake News Detection"
   ]
  },
  {
   "cell_type": "markdown",
   "metadata": {},
   "source": [
    "## Introduction"
   ]
  },
  {
   "cell_type": "markdown",
   "metadata": {},
   "source": [
    "We live in a post-truth world, where misinformation seems to increase all the time. We need a way to identify misinformation, apart from exhaustive, deep research on everything we read. Besides a few heuristics, can we go deeper with statistics and machine learning? This analysis shows that we can."
   ]
  },
  {
   "cell_type": "markdown",
   "metadata": {},
   "source": [
    "## Preprocessing"
   ]
  },
  {
   "cell_type": "code",
   "execution_count": 72,
   "metadata": {},
   "outputs": [],
   "source": [
    "%matplotlib inline\n",
    "import matplotlib.pyplot as plt\n",
    "import pandas as pd\n",
    "import numpy as np\n",
    "import warnings\n",
    "\n",
    "#getnews and datascience are custom python modules to avoid cluttering the notebook with source code\n",
    "import getnews as news\n",
    "import datascience as data\n",
    "\n",
    "from nltk.tokenize import word_tokenize, sent_tokenize, RegexpTokenizer\n",
    "from sklearn.feature_extraction.text import CountVectorizer, TfidfVectorizer\n",
    "from nltk.corpus import stopwords\n",
    "warnings.simplefilter(action='ignore', category=FutureWarning)\n",
    "\n",
    "\n",
    "dir_pol_real = '/Users/carlosbrown/Documents/Springboard/Capstone Project 2/FakeNewsNet-master/code/fakenewsnet_dataset/politifact/real/'\n",
    "dir_pol_fake = '/Users/carlosbrown/Documents/Springboard/Capstone Project 2/FakeNewsNet-master/code/fakenewsnet_dataset/politifact/fake/'\n",
    "dir_gos_real = '/Users/carlosbrown/Documents/Springboard/Capstone Project 2/FakeNewsNet-master/code/fakenewsnet_dataset/gossipcop/real/'\n",
    "dir_gos_fake = '/Users/carlosbrown/Documents/Springboard/Capstone Project 2/FakeNewsNet-master/code/fakenewsnet_dataset/gossipcop/fake/'\n",
    "directory_list = [dir_pol_real,dir_pol_fake,dir_gos_real,dir_gos_fake]"
   ]
  },
  {
   "cell_type": "markdown",
   "metadata": {},
   "source": [
    "## Get Data"
   ]
  },
  {
   "cell_type": "code",
   "execution_count": 76,
   "metadata": {},
   "outputs": [
    {
     "data": {
      "text/html": [
       "<div>\n",
       "<style scoped>\n",
       "    .dataframe tbody tr th:only-of-type {\n",
       "        vertical-align: middle;\n",
       "    }\n",
       "\n",
       "    .dataframe tbody tr th {\n",
       "        vertical-align: top;\n",
       "    }\n",
       "\n",
       "    .dataframe thead th {\n",
       "        text-align: right;\n",
       "    }\n",
       "</style>\n",
       "<table border=\"1\" class=\"dataframe\">\n",
       "  <thead>\n",
       "    <tr style=\"text-align: right;\">\n",
       "      <th></th>\n",
       "      <th>title</th>\n",
       "      <th>text</th>\n",
       "      <th>authors</th>\n",
       "      <th>num_images</th>\n",
       "      <th>domain</th>\n",
       "      <th>url</th>\n",
       "    </tr>\n",
       "  </thead>\n",
       "  <tbody>\n",
       "  </tbody>\n",
       "</table>\n",
       "</div>"
      ],
      "text/plain": [
       "Empty DataFrame\n",
       "Columns: [title, text, authors, num_images, domain, url]\n",
       "Index: []"
      ]
     },
     "execution_count": 76,
     "metadata": {},
     "output_type": "execute_result"
    }
   ],
   "source": [
    "df_pol_real = news.getnews(dir_pol_real)\n",
    "df_pol_real.head()"
   ]
  },
  {
   "cell_type": "code",
   "execution_count": 3,
   "metadata": {},
   "outputs": [
    {
     "data": {
      "text/html": [
       "<div>\n",
       "<style scoped>\n",
       "    .dataframe tbody tr th:only-of-type {\n",
       "        vertical-align: middle;\n",
       "    }\n",
       "\n",
       "    .dataframe tbody tr th {\n",
       "        vertical-align: top;\n",
       "    }\n",
       "\n",
       "    .dataframe thead th {\n",
       "        text-align: right;\n",
       "    }\n",
       "</style>\n",
       "<table border=\"1\" class=\"dataframe\">\n",
       "  <thead>\n",
       "    <tr style=\"text-align: right;\">\n",
       "      <th></th>\n",
       "      <th>title</th>\n",
       "      <th>text</th>\n",
       "      <th>authors</th>\n",
       "      <th>num_images</th>\n",
       "      <th>domain</th>\n",
       "      <th>url</th>\n",
       "    </tr>\n",
       "  </thead>\n",
       "  <tbody>\n",
       "    <tr>\n",
       "      <th>0</th>\n",
       "      <td>Cannibals Arrested in Florida Claim Eating Hum...</td>\n",
       "      <td>Police in Vernal Heights, Florida, arrested 3-...</td>\n",
       "      <td>['Daily Buzz Live']</td>\n",
       "      <td>17</td>\n",
       "      <td>dailybuzzlive</td>\n",
       "      <td>dailybuzzlive.com/cannibals-arrested-florida/</td>\n",
       "    </tr>\n",
       "    <tr>\n",
       "      <th>1</th>\n",
       "      <td>BREAKING: Trump fires Deputy Attorney General ...</td>\n",
       "      <td>WASHINGTON — Rod Jay Rosenstein, Deputy Attorn...</td>\n",
       "      <td>[]</td>\n",
       "      <td>23</td>\n",
       "      <td>archive</td>\n",
       "      <td>https://web.archive.org/web/20171228192703/htt...</td>\n",
       "    </tr>\n",
       "    <tr>\n",
       "      <th>2</th>\n",
       "      <td>Keanu Reeves Shook The World With Another POWE...</td>\n",
       "      <td>Sign up for your daily dose of enlightenment a...</td>\n",
       "      <td>['Higher Perspective']</td>\n",
       "      <td>5</td>\n",
       "      <td>higherperspectives</td>\n",
       "      <td>www.higherperspectives.com/powerful-note-16453...</td>\n",
       "    </tr>\n",
       "    <tr>\n",
       "      <th>3</th>\n",
       "      <td>Eveningw.com</td>\n",
       "      <td></td>\n",
       "      <td>[]</td>\n",
       "      <td>0</td>\n",
       "      <td>eveningw</td>\n",
       "      <td>http://eveningw.com/breaking-woman-says-offere...</td>\n",
       "    </tr>\n",
       "    <tr>\n",
       "      <th>4</th>\n",
       "      <td>First family visits D.C. shelter, highlights h...</td>\n",
       "      <td>\\n\\nPresident Obama, alongside his family, ser...</td>\n",
       "      <td>['Juliet Eilperin', 'Reporter Covering Domesti...</td>\n",
       "      <td>4</td>\n",
       "      <td>washingtonpost</td>\n",
       "      <td>https://www.washingtonpost.com/news/post-polit...</td>\n",
       "    </tr>\n",
       "  </tbody>\n",
       "</table>\n",
       "</div>"
      ],
      "text/plain": [
       "                                               title  \\\n",
       "0  Cannibals Arrested in Florida Claim Eating Hum...   \n",
       "1  BREAKING: Trump fires Deputy Attorney General ...   \n",
       "2  Keanu Reeves Shook The World With Another POWE...   \n",
       "3                                       Eveningw.com   \n",
       "4  First family visits D.C. shelter, highlights h...   \n",
       "\n",
       "                                                text  \\\n",
       "0  Police in Vernal Heights, Florida, arrested 3-...   \n",
       "1  WASHINGTON — Rod Jay Rosenstein, Deputy Attorn...   \n",
       "2  Sign up for your daily dose of enlightenment a...   \n",
       "3                                                      \n",
       "4  \\n\\nPresident Obama, alongside his family, ser...   \n",
       "\n",
       "                                             authors  num_images  \\\n",
       "0                                ['Daily Buzz Live']          17   \n",
       "1                                                 []          23   \n",
       "2                             ['Higher Perspective']           5   \n",
       "3                                                 []           0   \n",
       "4  ['Juliet Eilperin', 'Reporter Covering Domesti...           4   \n",
       "\n",
       "               domain                                                url  \n",
       "0       dailybuzzlive      dailybuzzlive.com/cannibals-arrested-florida/  \n",
       "1             archive  https://web.archive.org/web/20171228192703/htt...  \n",
       "2  higherperspectives  www.higherperspectives.com/powerful-note-16453...  \n",
       "3            eveningw  http://eveningw.com/breaking-woman-says-offere...  \n",
       "4      washingtonpost  https://www.washingtonpost.com/news/post-polit...  "
      ]
     },
     "execution_count": 3,
     "metadata": {},
     "output_type": "execute_result"
    }
   ],
   "source": [
    "df_pol_fake = news.getnews(dir_pol_fake)\n",
    "df_pol_fake.head()"
   ]
  },
  {
   "cell_type": "code",
   "execution_count": 4,
   "metadata": {},
   "outputs": [
    {
     "data": {
      "text/plain": [
       "(328, 6)"
      ]
     },
     "execution_count": 4,
     "metadata": {},
     "output_type": "execute_result"
    }
   ],
   "source": [
    "df_pol_fake.shape"
   ]
  },
  {
   "cell_type": "code",
   "execution_count": 5,
   "metadata": {},
   "outputs": [
    {
     "data": {
      "text/html": [
       "<div>\n",
       "<style scoped>\n",
       "    .dataframe tbody tr th:only-of-type {\n",
       "        vertical-align: middle;\n",
       "    }\n",
       "\n",
       "    .dataframe tbody tr th {\n",
       "        vertical-align: top;\n",
       "    }\n",
       "\n",
       "    .dataframe thead th {\n",
       "        text-align: right;\n",
       "    }\n",
       "</style>\n",
       "<table border=\"1\" class=\"dataframe\">\n",
       "  <thead>\n",
       "    <tr style=\"text-align: right;\">\n",
       "      <th></th>\n",
       "      <th>title</th>\n",
       "      <th>text</th>\n",
       "      <th>authors</th>\n",
       "      <th>num_images</th>\n",
       "      <th>domain</th>\n",
       "      <th>url</th>\n",
       "    </tr>\n",
       "  </thead>\n",
       "  <tbody>\n",
       "    <tr>\n",
       "      <th>0</th>\n",
       "      <td>Teen Mom Star Jenelle Evans' Wedding Dress Is ...</td>\n",
       "      <td>When you get married on national TV (and who i...</td>\n",
       "      <td>[]</td>\n",
       "      <td>7</td>\n",
       "      <td>brides</td>\n",
       "      <td>https://www.brides.com/story/teen-mom-jenelle-...</td>\n",
       "    </tr>\n",
       "    <tr>\n",
       "      <th>1</th>\n",
       "      <td>Kylie Jenner refusing to discuss Tyga on Life ...</td>\n",
       "      <td>Kylie Jenner reportedly doesn't want to talk a...</td>\n",
       "      <td>['Ross Mcdonagh For Dailymail.Com']</td>\n",
       "      <td>455</td>\n",
       "      <td>dailymail</td>\n",
       "      <td>https://www.dailymail.co.uk/tvshowbiz/article-...</td>\n",
       "    </tr>\n",
       "    <tr>\n",
       "      <th>2</th>\n",
       "      <td>Quinn Perkins</td>\n",
       "      <td>Character on American television series Scanda...</td>\n",
       "      <td>[]</td>\n",
       "      <td>6</td>\n",
       "      <td>wikipedia</td>\n",
       "      <td>https://en.wikipedia.org/wiki/Quinn_Perkins</td>\n",
       "    </tr>\n",
       "    <tr>\n",
       "      <th>3</th>\n",
       "      <td>I Tried Kim Kardashian's Butt Workout &amp; Am For...</td>\n",
       "      <td>Health Trends\\n\\nCanicross Is A New Fitness Tr...</td>\n",
       "      <td>['Elizabeth Buxton', 'Megan Decker', 'Cory Sti...</td>\n",
       "      <td>6</td>\n",
       "      <td>refinery29</td>\n",
       "      <td>https://www.refinery29.com/en-us/2018/03/19192...</td>\n",
       "    </tr>\n",
       "    <tr>\n",
       "      <th>4</th>\n",
       "      <td>Celine Dion donates concert proceeds to Vegas ...</td>\n",
       "      <td>(CNN) An emotional Celine Dion returned to the...</td>\n",
       "      <td>['Sandra Gonzalez']</td>\n",
       "      <td>5</td>\n",
       "      <td>cnn</td>\n",
       "      <td>https://www.cnn.com/2017/10/04/entertainment/c...</td>\n",
       "    </tr>\n",
       "  </tbody>\n",
       "</table>\n",
       "</div>"
      ],
      "text/plain": [
       "                                               title  \\\n",
       "0  Teen Mom Star Jenelle Evans' Wedding Dress Is ...   \n",
       "1  Kylie Jenner refusing to discuss Tyga on Life ...   \n",
       "2                                      Quinn Perkins   \n",
       "3  I Tried Kim Kardashian's Butt Workout & Am For...   \n",
       "4  Celine Dion donates concert proceeds to Vegas ...   \n",
       "\n",
       "                                                text  \\\n",
       "0  When you get married on national TV (and who i...   \n",
       "1  Kylie Jenner reportedly doesn't want to talk a...   \n",
       "2  Character on American television series Scanda...   \n",
       "3  Health Trends\\n\\nCanicross Is A New Fitness Tr...   \n",
       "4  (CNN) An emotional Celine Dion returned to the...   \n",
       "\n",
       "                                             authors  num_images      domain  \\\n",
       "0                                                 []           7      brides   \n",
       "1                ['Ross Mcdonagh For Dailymail.Com']         455   dailymail   \n",
       "2                                                 []           6   wikipedia   \n",
       "3  ['Elizabeth Buxton', 'Megan Decker', 'Cory Sti...           6  refinery29   \n",
       "4                                ['Sandra Gonzalez']           5         cnn   \n",
       "\n",
       "                                                 url  \n",
       "0  https://www.brides.com/story/teen-mom-jenelle-...  \n",
       "1  https://www.dailymail.co.uk/tvshowbiz/article-...  \n",
       "2        https://en.wikipedia.org/wiki/Quinn_Perkins  \n",
       "3  https://www.refinery29.com/en-us/2018/03/19192...  \n",
       "4  https://www.cnn.com/2017/10/04/entertainment/c...  "
      ]
     },
     "execution_count": 5,
     "metadata": {},
     "output_type": "execute_result"
    }
   ],
   "source": [
    "df_gos_real = news.getnews(dir_gos_real)\n",
    "df_gos_real.head()"
   ]
  },
  {
   "cell_type": "code",
   "execution_count": 6,
   "metadata": {},
   "outputs": [
    {
     "data": {
      "text/plain": [
       "(16190, 6)"
      ]
     },
     "execution_count": 6,
     "metadata": {},
     "output_type": "execute_result"
    }
   ],
   "source": [
    "df_gos_real.shape"
   ]
  },
  {
   "cell_type": "code",
   "execution_count": 7,
   "metadata": {},
   "outputs": [
    {
     "data": {
      "text/html": [
       "<div>\n",
       "<style scoped>\n",
       "    .dataframe tbody tr th:only-of-type {\n",
       "        vertical-align: middle;\n",
       "    }\n",
       "\n",
       "    .dataframe tbody tr th {\n",
       "        vertical-align: top;\n",
       "    }\n",
       "\n",
       "    .dataframe thead th {\n",
       "        text-align: right;\n",
       "    }\n",
       "</style>\n",
       "<table border=\"1\" class=\"dataframe\">\n",
       "  <thead>\n",
       "    <tr style=\"text-align: right;\">\n",
       "      <th></th>\n",
       "      <th>title</th>\n",
       "      <th>text</th>\n",
       "      <th>authors</th>\n",
       "      <th>num_images</th>\n",
       "      <th>domain</th>\n",
       "      <th>url</th>\n",
       "    </tr>\n",
       "  </thead>\n",
       "  <tbody>\n",
       "    <tr>\n",
       "      <th>0</th>\n",
       "      <td>Did Miley Cyrus and Liam Hemsworth secretly ge...</td>\n",
       "      <td>Congratulations might be in order for Miley Cy...</td>\n",
       "      <td>['Caitlyn Hitt']</td>\n",
       "      <td>453</td>\n",
       "      <td>dailymail</td>\n",
       "      <td>www.dailymail.co.uk/tvshowbiz/article-5874213/...</td>\n",
       "    </tr>\n",
       "    <tr>\n",
       "      <th>1</th>\n",
       "      <td>Paris Jackson &amp; Cara Delevingne Enjoy Night Ou...</td>\n",
       "      <td>Paris Jackson and Cara Delevingne were spotted...</td>\n",
       "      <td>['Courteney Larocca', 'Weekend Editor']</td>\n",
       "      <td>17</td>\n",
       "      <td>hollywoodlife</td>\n",
       "      <td>hollywoodlife.com/2018/05/05/paris-jackson-car...</td>\n",
       "    </tr>\n",
       "    <tr>\n",
       "      <th>2</th>\n",
       "      <td>Celebrities Join Tax March in Protest of Donal...</td>\n",
       "      <td>Thousands are taking the streets to protest Pr...</td>\n",
       "      <td>['Variety Staff', 'Follow Us On Twitter', \"Var...</td>\n",
       "      <td>36</td>\n",
       "      <td>variety</td>\n",
       "      <td>variety.com/2017/biz/news/tax-march-donald-tru...</td>\n",
       "    </tr>\n",
       "    <tr>\n",
       "      <th>3</th>\n",
       "      <td>Cindy Crawford's daughter Kaia Gerber wears a ...</td>\n",
       "      <td>We'd venture to say that Cindy Crawford's daug...</td>\n",
       "      <td>['Carly Stern For Dailymail.Com', 'Jj Nattrass...</td>\n",
       "      <td>416</td>\n",
       "      <td>dailymail</td>\n",
       "      <td>www.dailymail.co.uk/femail/article-3499192/Do-...</td>\n",
       "    </tr>\n",
       "    <tr>\n",
       "      <th>4</th>\n",
       "      <td>Full List of 2018 Oscar Nominations – Variety</td>\n",
       "      <td>Follow Us on Twitter\\n\\nOscar nominations for ...</td>\n",
       "      <td>['Variety Staff', 'Follow Us On Twitter', \"Var...</td>\n",
       "      <td>35</td>\n",
       "      <td>variety</td>\n",
       "      <td>variety.com/2018/film/news/list-2018-oscar-nom...</td>\n",
       "    </tr>\n",
       "  </tbody>\n",
       "</table>\n",
       "</div>"
      ],
      "text/plain": [
       "                                               title  \\\n",
       "0  Did Miley Cyrus and Liam Hemsworth secretly ge...   \n",
       "1  Paris Jackson & Cara Delevingne Enjoy Night Ou...   \n",
       "2  Celebrities Join Tax March in Protest of Donal...   \n",
       "3  Cindy Crawford's daughter Kaia Gerber wears a ...   \n",
       "4      Full List of 2018 Oscar Nominations – Variety   \n",
       "\n",
       "                                                text  \\\n",
       "0  Congratulations might be in order for Miley Cy...   \n",
       "1  Paris Jackson and Cara Delevingne were spotted...   \n",
       "2  Thousands are taking the streets to protest Pr...   \n",
       "3  We'd venture to say that Cindy Crawford's daug...   \n",
       "4  Follow Us on Twitter\\n\\nOscar nominations for ...   \n",
       "\n",
       "                                             authors  num_images  \\\n",
       "0                                   ['Caitlyn Hitt']         453   \n",
       "1            ['Courteney Larocca', 'Weekend Editor']          17   \n",
       "2  ['Variety Staff', 'Follow Us On Twitter', \"Var...          36   \n",
       "3  ['Carly Stern For Dailymail.Com', 'Jj Nattrass...         416   \n",
       "4  ['Variety Staff', 'Follow Us On Twitter', \"Var...          35   \n",
       "\n",
       "          domain                                                url  \n",
       "0      dailymail  www.dailymail.co.uk/tvshowbiz/article-5874213/...  \n",
       "1  hollywoodlife  hollywoodlife.com/2018/05/05/paris-jackson-car...  \n",
       "2        variety  variety.com/2017/biz/news/tax-march-donald-tru...  \n",
       "3      dailymail  www.dailymail.co.uk/femail/article-3499192/Do-...  \n",
       "4        variety  variety.com/2018/film/news/list-2018-oscar-nom...  "
      ]
     },
     "execution_count": 7,
     "metadata": {},
     "output_type": "execute_result"
    }
   ],
   "source": [
    "df_gos_fake = news.getnews(dir_gos_fake)\n",
    "df_gos_fake.head()"
   ]
  },
  {
   "cell_type": "code",
   "execution_count": 8,
   "metadata": {},
   "outputs": [
    {
     "data": {
      "text/plain": [
       "(4899, 6)"
      ]
     },
     "execution_count": 8,
     "metadata": {},
     "output_type": "execute_result"
    }
   ],
   "source": [
    "df_gos_fake.shape"
   ]
  },
  {
   "cell_type": "markdown",
   "metadata": {},
   "source": [
    "## Clean Data"
   ]
  },
  {
   "cell_type": "code",
   "execution_count": 9,
   "metadata": {},
   "outputs": [],
   "source": [
    "#remove rows that have no text in the text column\n",
    "df_pol_real = news.cleandf(df=df_pol_real,col='text',exclude='')\n",
    "df_pol_fake = news.cleandf(df=df_pol_fake,col='text',exclude='')\n",
    "df_gos_real = news.cleandf(df=df_gos_real,col='text',exclude='')\n",
    "df_gos_fake = news.cleandf(df=df_gos_fake,col='text',exclude='')\n",
    "\n",
    "df_list = [df_pol_real,df_pol_fake,df_gos_real,df_gos_fake]\n",
    "\n",
    "#Add response variable 'class' based on True=1 or Fake=0\n",
    "df_pol_real['class'] = 1 #True\n",
    "df_pol_fake['class'] = 0 #Fake\n",
    "df_gos_real['class'] = 1\n",
    "df_gos_fake['class'] = 0\n",
    "\n",
    "#combine df's into one\n",
    "df = pd.concat(df_list).reset_index(drop=True)\n",
    "tot_articles = df.shape[0]"
   ]
  },
  {
   "cell_type": "code",
   "execution_count": 10,
   "metadata": {},
   "outputs": [
    {
     "data": {
      "text/html": [
       "<div>\n",
       "<style scoped>\n",
       "    .dataframe tbody tr th:only-of-type {\n",
       "        vertical-align: middle;\n",
       "    }\n",
       "\n",
       "    .dataframe tbody tr th {\n",
       "        vertical-align: top;\n",
       "    }\n",
       "\n",
       "    .dataframe thead th {\n",
       "        text-align: right;\n",
       "    }\n",
       "</style>\n",
       "<table border=\"1\" class=\"dataframe\">\n",
       "  <thead>\n",
       "    <tr style=\"text-align: right;\">\n",
       "      <th></th>\n",
       "      <th>title</th>\n",
       "      <th>text</th>\n",
       "      <th>authors</th>\n",
       "      <th>num_images</th>\n",
       "      <th>domain</th>\n",
       "      <th>url</th>\n",
       "      <th>class</th>\n",
       "    </tr>\n",
       "  </thead>\n",
       "  <tbody>\n",
       "    <tr>\n",
       "      <th>0</th>\n",
       "      <td>Local News Headlines Hawaii</td>\n",
       "      <td>If you want to do business with Miller Industr...</td>\n",
       "      <td>['Dan Nakaso Dnakaso Staradvertiser.Com On Apr...</td>\n",
       "      <td>19</td>\n",
       "      <td>starbulletin</td>\n",
       "      <td>http://www.starbulletin.com/news/bulletin/9467...</td>\n",
       "      <td>1</td>\n",
       "    </tr>\n",
       "    <tr>\n",
       "      <th>1</th>\n",
       "      <td>Change We Can Believe In</td>\n",
       "      <td>Remarks of Senator Barack Obama: Apostolic Chu...</td>\n",
       "      <td>[]</td>\n",
       "      <td>33</td>\n",
       "      <td>archive</td>\n",
       "      <td>https://web.archive.org/web/20080618171108/htt...</td>\n",
       "      <td>1</td>\n",
       "    </tr>\n",
       "    <tr>\n",
       "      <th>2</th>\n",
       "      <td>One in Four</td>\n",
       "      <td>One in Four\\n\\nCongressman Joe Pitts Blocked U...</td>\n",
       "      <td>['Congressman Joe Pitts']</td>\n",
       "      <td>4</td>\n",
       "      <td>medium</td>\n",
       "      <td>https://medium.com/@RepJoePitts/one-in-four-66...</td>\n",
       "      <td>1</td>\n",
       "    </tr>\n",
       "    <tr>\n",
       "      <th>3</th>\n",
       "      <td>Pastors To Protest IRS Rules on Political Advo...</td>\n",
       "      <td>On Sept. 28, pastors from 20 states will give ...</td>\n",
       "      <td>[]</td>\n",
       "      <td>4</td>\n",
       "      <td>pewforum</td>\n",
       "      <td>http://www.pewforum.org/2008/09/19/pastors-to-...</td>\n",
       "      <td>1</td>\n",
       "    </tr>\n",
       "    <tr>\n",
       "      <th>4</th>\n",
       "      <td>“Dictionary” on President Obama’s Health Care ...</td>\n",
       "      <td>WASHINGTON – The Republican National Committee...</td>\n",
       "      <td>['Written On September', 'Republican National ...</td>\n",
       "      <td>32</td>\n",
       "      <td>archive</td>\n",
       "      <td>https://web.archive.org/web/20091003005639/htt...</td>\n",
       "      <td>1</td>\n",
       "    </tr>\n",
       "  </tbody>\n",
       "</table>\n",
       "</div>"
      ],
      "text/plain": [
       "                                               title  \\\n",
       "0                        Local News Headlines Hawaii   \n",
       "1                           Change We Can Believe In   \n",
       "2                                        One in Four   \n",
       "3  Pastors To Protest IRS Rules on Political Advo...   \n",
       "4  “Dictionary” on President Obama’s Health Care ...   \n",
       "\n",
       "                                                text  \\\n",
       "0  If you want to do business with Miller Industr...   \n",
       "1  Remarks of Senator Barack Obama: Apostolic Chu...   \n",
       "2  One in Four\\n\\nCongressman Joe Pitts Blocked U...   \n",
       "3  On Sept. 28, pastors from 20 states will give ...   \n",
       "4  WASHINGTON – The Republican National Committee...   \n",
       "\n",
       "                                             authors  num_images  \\\n",
       "0  ['Dan Nakaso Dnakaso Staradvertiser.Com On Apr...          19   \n",
       "1                                                 []          33   \n",
       "2                          ['Congressman Joe Pitts']           4   \n",
       "3                                                 []           4   \n",
       "4  ['Written On September', 'Republican National ...          32   \n",
       "\n",
       "         domain                                                url  class  \n",
       "0  starbulletin  http://www.starbulletin.com/news/bulletin/9467...      1  \n",
       "1       archive  https://web.archive.org/web/20080618171108/htt...      1  \n",
       "2        medium  https://medium.com/@RepJoePitts/one-in-four-66...      1  \n",
       "3      pewforum  http://www.pewforum.org/2008/09/19/pastors-to-...      1  \n",
       "4       archive  https://web.archive.org/web/20091003005639/htt...      1  "
      ]
     },
     "execution_count": 10,
     "metadata": {},
     "output_type": "execute_result"
    }
   ],
   "source": [
    "df.head()"
   ]
  },
  {
   "cell_type": "code",
   "execution_count": 11,
   "metadata": {},
   "outputs": [
    {
     "data": {
      "text/plain": [
       "(5558,)"
      ]
     },
     "execution_count": 11,
     "metadata": {},
     "output_type": "execute_result"
    }
   ],
   "source": [
    "df['authors'].unique().shape"
   ]
  },
  {
   "cell_type": "code",
   "execution_count": null,
   "metadata": {},
   "outputs": [],
   "source": []
  },
  {
   "cell_type": "markdown",
   "metadata": {},
   "source": [
    "## EDA"
   ]
  },
  {
   "cell_type": "markdown",
   "metadata": {},
   "source": [
    "### Word Counts"
   ]
  },
  {
   "cell_type": "markdown",
   "metadata": {},
   "source": [
    "Find the top 15 words by dataset/real or fake"
   ]
  },
  {
   "cell_type": "code",
   "execution_count": 12,
   "metadata": {},
   "outputs": [],
   "source": [
    "words = []\n",
    "for item in df_list:\n",
    "    words.append(list(data.cleanwordcounts(item.text).word.head(15)))"
   ]
  },
  {
   "cell_type": "code",
   "execution_count": 13,
   "metadata": {},
   "outputs": [
    {
     "data": {
      "text/html": [
       "<div>\n",
       "<style scoped>\n",
       "    .dataframe tbody tr th:only-of-type {\n",
       "        vertical-align: middle;\n",
       "    }\n",
       "\n",
       "    .dataframe tbody tr th {\n",
       "        vertical-align: top;\n",
       "    }\n",
       "\n",
       "    .dataframe thead th {\n",
       "        text-align: right;\n",
       "    }\n",
       "</style>\n",
       "<table border=\"1\" class=\"dataframe\">\n",
       "  <thead>\n",
       "    <tr style=\"text-align: right;\">\n",
       "      <th></th>\n",
       "      <th>Politifact-Real</th>\n",
       "      <th>Politifact-Fake</th>\n",
       "      <th>Gossipcop-Real</th>\n",
       "      <th>Gossipcop-Fake</th>\n",
       "    </tr>\n",
       "  </thead>\n",
       "  <tbody>\n",
       "    <tr>\n",
       "      <th>0</th>\n",
       "      <td>people</td>\n",
       "      <td>trump</td>\n",
       "      <td>one</td>\n",
       "      <td>said</td>\n",
       "    </tr>\n",
       "    <tr>\n",
       "      <th>1</th>\n",
       "      <td>going</td>\n",
       "      <td>said</td>\n",
       "      <td>said</td>\n",
       "      <td>one</td>\n",
       "    </tr>\n",
       "    <tr>\n",
       "      <th>2</th>\n",
       "      <td>think</td>\n",
       "      <td>president</td>\n",
       "      <td>like</td>\n",
       "      <td>time</td>\n",
       "    </tr>\n",
       "    <tr>\n",
       "      <th>3</th>\n",
       "      <td>president</td>\n",
       "      <td>people</td>\n",
       "      <td>new</td>\n",
       "      <td>new</td>\n",
       "    </tr>\n",
       "    <tr>\n",
       "      <th>4</th>\n",
       "      <td>would</td>\n",
       "      <td>one</td>\n",
       "      <td>time</td>\n",
       "      <td>like</td>\n",
       "    </tr>\n",
       "    <tr>\n",
       "      <th>5</th>\n",
       "      <td>know</td>\n",
       "      <td>would</td>\n",
       "      <td>also</td>\n",
       "      <td>year</td>\n",
       "    </tr>\n",
       "    <tr>\n",
       "      <th>6</th>\n",
       "      <td>said</td>\n",
       "      <td>also</td>\n",
       "      <td>first</td>\n",
       "      <td>also</td>\n",
       "    </tr>\n",
       "    <tr>\n",
       "      <th>7</th>\n",
       "      <td>0</td>\n",
       "      <td>news</td>\n",
       "      <td>show</td>\n",
       "      <td>first</td>\n",
       "    </tr>\n",
       "    <tr>\n",
       "      <th>8</th>\n",
       "      <td>one</td>\n",
       "      <td>new</td>\n",
       "      <td>year</td>\n",
       "      <td>source</td>\n",
       "    </tr>\n",
       "    <tr>\n",
       "      <th>9</th>\n",
       "      <td>1</td>\n",
       "      <td>us</td>\n",
       "      <td>season</td>\n",
       "      <td>would</td>\n",
       "    </tr>\n",
       "    <tr>\n",
       "      <th>10</th>\n",
       "      <td>get</td>\n",
       "      <td>like</td>\n",
       "      <td>people</td>\n",
       "      <td>two</td>\n",
       "    </tr>\n",
       "    <tr>\n",
       "      <th>11</th>\n",
       "      <td>obama</td>\n",
       "      <td>presidential</td>\n",
       "      <td>two</td>\n",
       "      <td>people</td>\n",
       "    </tr>\n",
       "    <tr>\n",
       "      <th>12</th>\n",
       "      <td>well</td>\n",
       "      <td>clinton</td>\n",
       "      <td>would</td>\n",
       "      <td>family</td>\n",
       "    </tr>\n",
       "    <tr>\n",
       "      <th>13</th>\n",
       "      <td>want</td>\n",
       "      <td>obama</td>\n",
       "      <td>get</td>\n",
       "      <td>love</td>\n",
       "    </tr>\n",
       "    <tr>\n",
       "      <th>14</th>\n",
       "      <td>right</td>\n",
       "      <td>donald</td>\n",
       "      <td>love</td>\n",
       "      <td>told</td>\n",
       "    </tr>\n",
       "  </tbody>\n",
       "</table>\n",
       "</div>"
      ],
      "text/plain": [
       "   Politifact-Real Politifact-Fake Gossipcop-Real Gossipcop-Fake\n",
       "0           people           trump            one           said\n",
       "1            going            said           said            one\n",
       "2            think       president           like           time\n",
       "3        president          people            new            new\n",
       "4            would             one           time           like\n",
       "5             know           would           also           year\n",
       "6             said            also          first           also\n",
       "7                0            news           show          first\n",
       "8              one             new           year         source\n",
       "9                1              us         season          would\n",
       "10             get            like         people            two\n",
       "11           obama    presidential            two         people\n",
       "12            well         clinton          would         family\n",
       "13            want           obama            get           love\n",
       "14           right          donald           love           told"
      ]
     },
     "execution_count": 13,
     "metadata": {},
     "output_type": "execute_result"
    }
   ],
   "source": [
    "df_words = pd.DataFrame(words).T\n",
    "df_words.columns = ['Politifact-Real','Politifact-Fake','Gossipcop-Real','Gossipcop-Fake']\n",
    "df_words"
   ]
  },
  {
   "cell_type": "markdown",
   "metadata": {},
   "source": [
    "There is a lot of crossover between real and fake in terms of top words, comparing between both politifact and gossipcop. It appears that there is a lot of fake news dealing with President Trump. Could this indicate a bias in the media directed at Trump? This question is beyond the scope of this analysis, but is good food for thought."
   ]
  },
  {
   "cell_type": "markdown",
   "metadata": {},
   "source": [
    "### Domains"
   ]
  },
  {
   "cell_type": "code",
   "execution_count": 14,
   "metadata": {},
   "outputs": [
    {
     "data": {
      "text/html": [
       "<div>\n",
       "<style scoped>\n",
       "    .dataframe tbody tr th:only-of-type {\n",
       "        vertical-align: middle;\n",
       "    }\n",
       "\n",
       "    .dataframe tbody tr th {\n",
       "        vertical-align: top;\n",
       "    }\n",
       "\n",
       "    .dataframe thead th {\n",
       "        text-align: right;\n",
       "    }\n",
       "</style>\n",
       "<table border=\"1\" class=\"dataframe\">\n",
       "  <thead>\n",
       "    <tr style=\"text-align: right;\">\n",
       "      <th></th>\n",
       "      <th>count</th>\n",
       "    </tr>\n",
       "  </thead>\n",
       "  <tbody>\n",
       "    <tr>\n",
       "      <th>people</th>\n",
       "      <td>1783</td>\n",
       "    </tr>\n",
       "    <tr>\n",
       "      <th>dailymail</th>\n",
       "      <td>964</td>\n",
       "    </tr>\n",
       "    <tr>\n",
       "      <th>wikipedia</th>\n",
       "      <td>739</td>\n",
       "    </tr>\n",
       "    <tr>\n",
       "      <th>usmagazine</th>\n",
       "      <td>709</td>\n",
       "    </tr>\n",
       "    <tr>\n",
       "      <th>etonline</th>\n",
       "      <td>656</td>\n",
       "    </tr>\n",
       "    <tr>\n",
       "      <th>longroom</th>\n",
       "      <td>556</td>\n",
       "    </tr>\n",
       "    <tr>\n",
       "      <th>hollywoodlife</th>\n",
       "      <td>524</td>\n",
       "    </tr>\n",
       "    <tr>\n",
       "      <th>usatoday</th>\n",
       "      <td>344</td>\n",
       "    </tr>\n",
       "    <tr>\n",
       "      <th>hollywoodreporter</th>\n",
       "      <td>329</td>\n",
       "    </tr>\n",
       "    <tr>\n",
       "      <th>variety</th>\n",
       "      <td>304</td>\n",
       "    </tr>\n",
       "    <tr>\n",
       "      <th>ew</th>\n",
       "      <td>255</td>\n",
       "    </tr>\n",
       "    <tr>\n",
       "      <th>elle</th>\n",
       "      <td>209</td>\n",
       "    </tr>\n",
       "    <tr>\n",
       "      <th>archive</th>\n",
       "      <td>206</td>\n",
       "    </tr>\n",
       "    <tr>\n",
       "      <th>billboard</th>\n",
       "      <td>196</td>\n",
       "    </tr>\n",
       "    <tr>\n",
       "      <th>today</th>\n",
       "      <td>195</td>\n",
       "    </tr>\n",
       "  </tbody>\n",
       "</table>\n",
       "</div>"
      ],
      "text/plain": [
       "                   count\n",
       "people              1783\n",
       "dailymail            964\n",
       "wikipedia            739\n",
       "usmagazine           709\n",
       "etonline             656\n",
       "longroom             556\n",
       "hollywoodlife        524\n",
       "usatoday             344\n",
       "hollywoodreporter    329\n",
       "variety              304\n",
       "ew                   255\n",
       "elle                 209\n",
       "archive              206\n",
       "billboard            196\n",
       "today                195"
      ]
     },
     "execution_count": 14,
     "metadata": {},
     "output_type": "execute_result"
    }
   ],
   "source": [
    "#top 15 news publishers\n",
    "domains = pd.DataFrame(df['domain'].value_counts())\n",
    "domains.columns = ['count']\n",
    "domains.head(15)"
   ]
  },
  {
   "cell_type": "code",
   "execution_count": 15,
   "metadata": {},
   "outputs": [
    {
     "data": {
      "text/plain": [
       "Text(0.5, 1.0, 'Domains - Count')"
      ]
     },
     "execution_count": 15,
     "metadata": {},
     "output_type": "execute_result"
    },
    {
     "data": {
      "image/png": "[encoded data removed]",
      "text/plain": [
       "<Figure size 576x396 with 1 Axes>"
      ]
     },
     "metadata": {},
     "output_type": "display_data"
    }
   ],
   "source": [
    "plt.style.use('seaborn')\n",
    "domains.head(15).plot(kind='bar')\n",
    "plt.xticks(rotation=70)\n",
    "plt.title('Domains - Count')"
   ]
  },
  {
   "cell_type": "code",
   "execution_count": 16,
   "metadata": {},
   "outputs": [
    {
     "name": "stdout",
     "output_type": "stream",
     "text": [
      "{'independent', 'time', 'trendolizer', 'boingboing', 'cbsnews', 'tampabay', 'nytimes', 'foxnews', 'politico', 'thesun', 'archive', 'msn', 'inverse', 'mtv', 'cbslocal', 'wordpress', 'thehill', 'hollywoodreporter', 'guardian', 'wsj', 'radaronline', 'medium', 'breitbart', 'pbs', 'steemit', 'me', 'reddit', 'cnn', 'firstpost', 'unilad', 'mirror', 'nymag', 'genius', 'rare', 'infowars', 'rollingstone', 'theverge', 'nbcnews', 'yournewswire', 'nypost', 'washingtonpost', 'chicagotribune', 'usnews', 'latimes', 'go', 'apnews', 'boston', 'realclearpolitics', 'bloomberg', 'desmoinesregister', 'reuters', 'vox', 'aljazeera', 'npr', 'businessinsider', 'bbc', 'usatoday', 'huffingtonpost', 'theguardian', 'pix11'}\n"
     ]
    }
   ],
   "source": [
    "#what domains are common between the two datasets?\n",
    "polset = set(df_pol_real.domain.unique()).union(set(df_pol_fake.domain.unique()))\n",
    "gosset = set(df_gos_real.domain.unique()).union(set(df_gos_fake.domain.unique()))\n",
    "intersect = polset.intersection(gosset)\n",
    "print(intersect)"
   ]
  },
  {
   "cell_type": "markdown",
   "metadata": {},
   "source": [
    "Many of the well known publishers show up both sets, however there are a few relatively unknown domains like boingboing and pixll that are in both."
   ]
  },
  {
   "cell_type": "markdown",
   "metadata": {},
   "source": [
    "### Number of Images"
   ]
  },
  {
   "cell_type": "code",
   "execution_count": 17,
   "metadata": {},
   "outputs": [
    {
     "data": {
      "image/png": "[encoded data removed]",
      "text/plain": [
       "<Figure size 576x396 with 1 Axes>"
      ]
     },
     "metadata": {},
     "output_type": "display_data"
    }
   ],
   "source": [
    "df.num_images.plot(kind='hist')\n",
    "plt.savefig('./Images/images.png',format='png')"
   ]
  },
  {
   "cell_type": "markdown",
   "metadata": {},
   "source": [
    "Most articles have less than 50 images, but there is a strange blip between 400 and 500."
   ]
  },
  {
   "cell_type": "code",
   "execution_count": 18,
   "metadata": {},
   "outputs": [
    {
     "data": {
      "text/plain": [
       "count    21628.000000\n",
       "mean        34.610505\n",
       "std         90.292931\n",
       "min          0.000000\n",
       "25%          6.000000\n",
       "50%         11.000000\n",
       "75%         22.000000\n",
       "max        598.000000\n",
       "Name: num_images, dtype: float64"
      ]
     },
     "execution_count": 18,
     "metadata": {},
     "output_type": "execute_result"
    }
   ],
   "source": [
    "df['num_images'].describe()"
   ]
  },
  {
   "cell_type": "markdown",
   "metadata": {},
   "source": [
    "Do fake news articles use more or less images than real news articles?"
   ]
  },
  {
   "cell_type": "code",
   "execution_count": 19,
   "metadata": {},
   "outputs": [
    {
     "name": "stdout",
     "output_type": "stream",
     "text": [
      "      num_images           \n",
      "            mean        std\n",
      "class                      \n",
      "0      31.761088  82.660956\n",
      "1      35.483661  92.490461\n"
     ]
    }
   ],
   "source": [
    "image_by_class = pd.pivot_table(df,index='class',aggfunc={'num_images':['mean','std']})\n",
    "print(image_by_class)"
   ]
  },
  {
   "cell_type": "markdown",
   "metadata": {},
   "source": [
    "It appears at first inspection that fake news articles use fewer images than real news articles overall. This makes sense as fake images take more effort to create as one must obtain original images and doctor them or generate them from scratch for fake news. They may also distract from the theme of the fake news text, which is the idea that the article is trying to get across. The image may be a distraction that could easily clue people in to the nature of the article\n",
    "\n",
    "Let's run a bootstrap test to see if their is a statistical difference. One sided statistical test\n",
    "H0: The means of the distributions of num_images between classes is the same\n",
    "Ha: Real news articles use more images than fake news articles\n",
    "\n",
    "significance level = 1%"
   ]
  },
  {
   "cell_type": "code",
   "execution_count": 20,
   "metadata": {},
   "outputs": [
    {
     "name": "stdout",
     "output_type": "stream",
     "text": [
      "Observed difference in means: 3.72\n"
     ]
    }
   ],
   "source": [
    "class1 = df[df['class']==1]['num_images']\n",
    "class0 = df[df['class']==0]['num_images']\n",
    "diff = image_by_class.iloc[1,0] - image_by_class.iloc[0,0]\n",
    "#generate 50000 samples of the difference of means between the two classes\n",
    "perm_sample = data.draw_perm_reps(class1,class0,func=data.diff_of_means,size=50000)\n",
    "print(\"Observed difference in means:\",round(diff,2))"
   ]
  },
  {
   "cell_type": "code",
   "execution_count": 21,
   "metadata": {},
   "outputs": [
    {
     "data": {
      "text/plain": [
       "(array([5.0000e+00, 8.9000e+01, 9.0500e+02, 4.8080e+03, 1.2269e+04,\n",
       "        1.6346e+04, 1.1167e+04, 3.7670e+03, 6.0300e+02, 4.1000e+01]),\n",
       " array([-6.66013277, -5.42995333, -4.19977389, -2.96959445, -1.73941502,\n",
       "        -0.50923558,  0.72094386,  1.95112329,  3.18130273,  4.41148217,\n",
       "         5.6416616 ]),\n",
       " <a list of 10 Patch objects>)"
      ]
     },
     "execution_count": 21,
     "metadata": {},
     "output_type": "execute_result"
    },
    {
     "data": {
      "image/png": "[encoded data removed]",
      "text/plain": [
       "<Figure size 576x396 with 1 Axes>"
      ]
     },
     "metadata": {},
     "output_type": "display_data"
    }
   ],
   "source": [
    "#histogram of the difference of means\n",
    "plt.hist(perm_sample)"
   ]
  },
  {
   "cell_type": "code",
   "execution_count": 22,
   "metadata": {},
   "outputs": [
    {
     "data": {
      "text/plain": [
       "0.00476"
      ]
     },
     "execution_count": 22,
     "metadata": {},
     "output_type": "execute_result"
    }
   ],
   "source": [
    "#calculate p-value\n",
    "p_value = len(perm_sample[perm_sample >= diff]) / len(perm_sample)\n",
    "p_value"
   ]
  },
  {
   "cell_type": "markdown",
   "metadata": {},
   "source": [
    "Our p-value is less than alpha value for a one-sided test. We reject the null in favor of the alternative hypothesis, there is a statistically significant difference in the number of images that the two types of news use."
   ]
  },
  {
   "cell_type": "markdown",
   "metadata": {},
   "source": [
    "### Worst Offenders and the Truth Tellers"
   ]
  },
  {
   "cell_type": "markdown",
   "metadata": {},
   "source": [
    "Create a pivot table to visualize the counts of fake news and real news articles by domain, also compute a truthfulness ratio"
   ]
  },
  {
   "cell_type": "code",
   "execution_count": 23,
   "metadata": {},
   "outputs": [
    {
     "data": {
      "text/html": [
       "<div>\n",
       "<style scoped>\n",
       "    .dataframe tbody tr th:only-of-type {\n",
       "        vertical-align: middle;\n",
       "    }\n",
       "\n",
       "    .dataframe tbody tr th {\n",
       "        vertical-align: top;\n",
       "    }\n",
       "\n",
       "    .dataframe thead tr th {\n",
       "        text-align: left;\n",
       "    }\n",
       "\n",
       "    .dataframe thead tr:last-of-type th {\n",
       "        text-align: right;\n",
       "    }\n",
       "</style>\n",
       "<table border=\"1\" class=\"dataframe\">\n",
       "  <thead>\n",
       "    <tr>\n",
       "      <th></th>\n",
       "      <th colspan=\"2\" halign=\"left\">domain</th>\n",
       "      <th>%true</th>\n",
       "    </tr>\n",
       "    <tr>\n",
       "      <th>class</th>\n",
       "      <th>0</th>\n",
       "      <th>1</th>\n",
       "      <th></th>\n",
       "    </tr>\n",
       "    <tr>\n",
       "      <th>domain</th>\n",
       "      <th></th>\n",
       "      <th></th>\n",
       "      <th></th>\n",
       "    </tr>\n",
       "  </thead>\n",
       "  <tbody>\n",
       "    <tr>\n",
       "      <th>newidea</th>\n",
       "      <td>134</td>\n",
       "      <td>6</td>\n",
       "      <td>0.042857</td>\n",
       "    </tr>\n",
       "    <tr>\n",
       "      <th>radaronline</th>\n",
       "      <td>174</td>\n",
       "      <td>19</td>\n",
       "      <td>0.098446</td>\n",
       "    </tr>\n",
       "    <tr>\n",
       "      <th>hollywoodlife</th>\n",
       "      <td>460</td>\n",
       "      <td>64</td>\n",
       "      <td>0.122137</td>\n",
       "    </tr>\n",
       "    <tr>\n",
       "      <th>yourtango</th>\n",
       "      <td>14</td>\n",
       "      <td>2</td>\n",
       "      <td>0.125000</td>\n",
       "    </tr>\n",
       "    <tr>\n",
       "      <th>femalefirst</th>\n",
       "      <td>14</td>\n",
       "      <td>2</td>\n",
       "      <td>0.125000</td>\n",
       "    </tr>\n",
       "    <tr>\n",
       "      <th>thehollywoodgossip</th>\n",
       "      <td>42</td>\n",
       "      <td>8</td>\n",
       "      <td>0.160000</td>\n",
       "    </tr>\n",
       "    <tr>\n",
       "      <th>theatlantic</th>\n",
       "      <td>5</td>\n",
       "      <td>1</td>\n",
       "      <td>0.166667</td>\n",
       "    </tr>\n",
       "    <tr>\n",
       "      <th>girlfriend</th>\n",
       "      <td>10</td>\n",
       "      <td>2</td>\n",
       "      <td>0.166667</td>\n",
       "    </tr>\n",
       "    <tr>\n",
       "      <th>dailystar</th>\n",
       "      <td>10</td>\n",
       "      <td>2</td>\n",
       "      <td>0.166667</td>\n",
       "    </tr>\n",
       "    <tr>\n",
       "      <th>intouchweekly</th>\n",
       "      <td>75</td>\n",
       "      <td>17</td>\n",
       "      <td>0.184783</td>\n",
       "    </tr>\n",
       "    <tr>\n",
       "      <th>lifeandstylemag</th>\n",
       "      <td>52</td>\n",
       "      <td>12</td>\n",
       "      <td>0.187500</td>\n",
       "    </tr>\n",
       "    <tr>\n",
       "      <th>journalpost</th>\n",
       "      <td>4</td>\n",
       "      <td>1</td>\n",
       "      <td>0.200000</td>\n",
       "    </tr>\n",
       "    <tr>\n",
       "      <th>enstarz</th>\n",
       "      <td>4</td>\n",
       "      <td>1</td>\n",
       "      <td>0.200000</td>\n",
       "    </tr>\n",
       "    <tr>\n",
       "      <th>business-standard</th>\n",
       "      <td>3</td>\n",
       "      <td>1</td>\n",
       "      <td>0.250000</td>\n",
       "    </tr>\n",
       "    <tr>\n",
       "      <th>contactmusic</th>\n",
       "      <td>3</td>\n",
       "      <td>1</td>\n",
       "      <td>0.250000</td>\n",
       "    </tr>\n",
       "    <tr>\n",
       "      <th>thenational</th>\n",
       "      <td>3</td>\n",
       "      <td>1</td>\n",
       "      <td>0.250000</td>\n",
       "    </tr>\n",
       "    <tr>\n",
       "      <th>datalounge</th>\n",
       "      <td>3</td>\n",
       "      <td>1</td>\n",
       "      <td>0.250000</td>\n",
       "    </tr>\n",
       "    <tr>\n",
       "      <th>gobankingrates</th>\n",
       "      <td>3</td>\n",
       "      <td>1</td>\n",
       "      <td>0.250000</td>\n",
       "    </tr>\n",
       "    <tr>\n",
       "      <th>heavy</th>\n",
       "      <td>5</td>\n",
       "      <td>2</td>\n",
       "      <td>0.285714</td>\n",
       "    </tr>\n",
       "    <tr>\n",
       "      <th>marriedbiography</th>\n",
       "      <td>15</td>\n",
       "      <td>6</td>\n",
       "      <td>0.285714</td>\n",
       "    </tr>\n",
       "    <tr>\n",
       "      <th>tribune</th>\n",
       "      <td>5</td>\n",
       "      <td>2</td>\n",
       "      <td>0.285714</td>\n",
       "    </tr>\n",
       "    <tr>\n",
       "      <th>facebook</th>\n",
       "      <td>5</td>\n",
       "      <td>2</td>\n",
       "      <td>0.285714</td>\n",
       "    </tr>\n",
       "    <tr>\n",
       "      <th>aceshowbiz</th>\n",
       "      <td>24</td>\n",
       "      <td>10</td>\n",
       "      <td>0.294118</td>\n",
       "    </tr>\n",
       "    <tr>\n",
       "      <th>ibtimes</th>\n",
       "      <td>61</td>\n",
       "      <td>27</td>\n",
       "      <td>0.306818</td>\n",
       "    </tr>\n",
       "    <tr>\n",
       "      <th>okmagazine</th>\n",
       "      <td>63</td>\n",
       "      <td>29</td>\n",
       "      <td>0.315217</td>\n",
       "    </tr>\n",
       "    <tr>\n",
       "      <th>wonderwall</th>\n",
       "      <td>19</td>\n",
       "      <td>9</td>\n",
       "      <td>0.321429</td>\n",
       "    </tr>\n",
       "    <tr>\n",
       "      <th>inquisitr</th>\n",
       "      <td>107</td>\n",
       "      <td>51</td>\n",
       "      <td>0.322785</td>\n",
       "    </tr>\n",
       "    <tr>\n",
       "      <th>player</th>\n",
       "      <td>2</td>\n",
       "      <td>1</td>\n",
       "      <td>0.333333</td>\n",
       "    </tr>\n",
       "    <tr>\n",
       "      <th>calgarysun</th>\n",
       "      <td>2</td>\n",
       "      <td>1</td>\n",
       "      <td>0.333333</td>\n",
       "    </tr>\n",
       "    <tr>\n",
       "      <th>entertainmentdaily</th>\n",
       "      <td>4</td>\n",
       "      <td>2</td>\n",
       "      <td>0.333333</td>\n",
       "    </tr>\n",
       "    <tr>\n",
       "      <th>...</th>\n",
       "      <td>...</td>\n",
       "      <td>...</td>\n",
       "      <td>...</td>\n",
       "    </tr>\n",
       "    <tr>\n",
       "      <th>her</th>\n",
       "      <td>1</td>\n",
       "      <td>11</td>\n",
       "      <td>0.916667</td>\n",
       "    </tr>\n",
       "    <tr>\n",
       "      <th>allure</th>\n",
       "      <td>3</td>\n",
       "      <td>35</td>\n",
       "      <td>0.921053</td>\n",
       "    </tr>\n",
       "    <tr>\n",
       "      <th>justjaredjr</th>\n",
       "      <td>1</td>\n",
       "      <td>12</td>\n",
       "      <td>0.923077</td>\n",
       "    </tr>\n",
       "    <tr>\n",
       "      <th>today</th>\n",
       "      <td>15</td>\n",
       "      <td>180</td>\n",
       "      <td>0.923077</td>\n",
       "    </tr>\n",
       "    <tr>\n",
       "      <th>tennessean</th>\n",
       "      <td>1</td>\n",
       "      <td>12</td>\n",
       "      <td>0.923077</td>\n",
       "    </tr>\n",
       "    <tr>\n",
       "      <th>politifact</th>\n",
       "      <td>2</td>\n",
       "      <td>24</td>\n",
       "      <td>0.923077</td>\n",
       "    </tr>\n",
       "    <tr>\n",
       "      <th>glamour</th>\n",
       "      <td>7</td>\n",
       "      <td>88</td>\n",
       "      <td>0.926316</td>\n",
       "    </tr>\n",
       "    <tr>\n",
       "      <th>bravotv</th>\n",
       "      <td>11</td>\n",
       "      <td>147</td>\n",
       "      <td>0.930380</td>\n",
       "    </tr>\n",
       "    <tr>\n",
       "      <th>blogspot</th>\n",
       "      <td>2</td>\n",
       "      <td>29</td>\n",
       "      <td>0.935484</td>\n",
       "    </tr>\n",
       "    <tr>\n",
       "      <th>tvguide</th>\n",
       "      <td>2</td>\n",
       "      <td>29</td>\n",
       "      <td>0.935484</td>\n",
       "    </tr>\n",
       "    <tr>\n",
       "      <th>hola</th>\n",
       "      <td>1</td>\n",
       "      <td>15</td>\n",
       "      <td>0.937500</td>\n",
       "    </tr>\n",
       "    <tr>\n",
       "      <th>reuters</th>\n",
       "      <td>1</td>\n",
       "      <td>15</td>\n",
       "      <td>0.937500</td>\n",
       "    </tr>\n",
       "    <tr>\n",
       "      <th>essence</th>\n",
       "      <td>1</td>\n",
       "      <td>16</td>\n",
       "      <td>0.941176</td>\n",
       "    </tr>\n",
       "    <tr>\n",
       "      <th>newslocker</th>\n",
       "      <td>1</td>\n",
       "      <td>17</td>\n",
       "      <td>0.944444</td>\n",
       "    </tr>\n",
       "    <tr>\n",
       "      <th>bbc</th>\n",
       "      <td>4</td>\n",
       "      <td>70</td>\n",
       "      <td>0.945946</td>\n",
       "    </tr>\n",
       "    <tr>\n",
       "      <th>popculture</th>\n",
       "      <td>4</td>\n",
       "      <td>74</td>\n",
       "      <td>0.948718</td>\n",
       "    </tr>\n",
       "    <tr>\n",
       "      <th>hellogiggles</th>\n",
       "      <td>4</td>\n",
       "      <td>75</td>\n",
       "      <td>0.949367</td>\n",
       "    </tr>\n",
       "    <tr>\n",
       "      <th>tvinsider</th>\n",
       "      <td>1</td>\n",
       "      <td>20</td>\n",
       "      <td>0.952381</td>\n",
       "    </tr>\n",
       "    <tr>\n",
       "      <th>w3livenews</th>\n",
       "      <td>1</td>\n",
       "      <td>21</td>\n",
       "      <td>0.954545</td>\n",
       "    </tr>\n",
       "    <tr>\n",
       "      <th>kardashiantoday</th>\n",
       "      <td>1</td>\n",
       "      <td>23</td>\n",
       "      <td>0.958333</td>\n",
       "    </tr>\n",
       "    <tr>\n",
       "      <th>wikia</th>\n",
       "      <td>1</td>\n",
       "      <td>25</td>\n",
       "      <td>0.961538</td>\n",
       "    </tr>\n",
       "    <tr>\n",
       "      <th>stylecaster</th>\n",
       "      <td>1</td>\n",
       "      <td>29</td>\n",
       "      <td>0.966667</td>\n",
       "    </tr>\n",
       "    <tr>\n",
       "      <th>indiewire</th>\n",
       "      <td>1</td>\n",
       "      <td>30</td>\n",
       "      <td>0.967742</td>\n",
       "    </tr>\n",
       "    <tr>\n",
       "      <th>upi</th>\n",
       "      <td>2</td>\n",
       "      <td>67</td>\n",
       "      <td>0.971014</td>\n",
       "    </tr>\n",
       "    <tr>\n",
       "      <th>biphoo</th>\n",
       "      <td>1</td>\n",
       "      <td>34</td>\n",
       "      <td>0.971429</td>\n",
       "    </tr>\n",
       "    <tr>\n",
       "      <th>medium</th>\n",
       "      <td>3</td>\n",
       "      <td>103</td>\n",
       "      <td>0.971698</td>\n",
       "    </tr>\n",
       "    <tr>\n",
       "      <th>theworldnews</th>\n",
       "      <td>1</td>\n",
       "      <td>40</td>\n",
       "      <td>0.975610</td>\n",
       "    </tr>\n",
       "    <tr>\n",
       "      <th>youtube</th>\n",
       "      <td>1</td>\n",
       "      <td>46</td>\n",
       "      <td>0.978723</td>\n",
       "    </tr>\n",
       "    <tr>\n",
       "      <th>scoopnest</th>\n",
       "      <td>1</td>\n",
       "      <td>49</td>\n",
       "      <td>0.980000</td>\n",
       "    </tr>\n",
       "    <tr>\n",
       "      <th>tvline</th>\n",
       "      <td>1</td>\n",
       "      <td>71</td>\n",
       "      <td>0.986111</td>\n",
       "    </tr>\n",
       "  </tbody>\n",
       "</table>\n",
       "<p>378 rows × 3 columns</p>\n",
       "</div>"
      ],
      "text/plain": [
       "                   domain          %true\n",
       "class                   0    1          \n",
       "domain                                  \n",
       "newidea               134    6  0.042857\n",
       "radaronline           174   19  0.098446\n",
       "hollywoodlife         460   64  0.122137\n",
       "yourtango              14    2  0.125000\n",
       "femalefirst            14    2  0.125000\n",
       "thehollywoodgossip     42    8  0.160000\n",
       "theatlantic             5    1  0.166667\n",
       "girlfriend             10    2  0.166667\n",
       "dailystar              10    2  0.166667\n",
       "intouchweekly          75   17  0.184783\n",
       "lifeandstylemag        52   12  0.187500\n",
       "journalpost             4    1  0.200000\n",
       "enstarz                 4    1  0.200000\n",
       "business-standard       3    1  0.250000\n",
       "contactmusic            3    1  0.250000\n",
       "thenational             3    1  0.250000\n",
       "datalounge              3    1  0.250000\n",
       "gobankingrates          3    1  0.250000\n",
       "heavy                   5    2  0.285714\n",
       "marriedbiography       15    6  0.285714\n",
       "tribune                 5    2  0.285714\n",
       "facebook                5    2  0.285714\n",
       "aceshowbiz             24   10  0.294118\n",
       "ibtimes                61   27  0.306818\n",
       "okmagazine             63   29  0.315217\n",
       "wonderwall             19    9  0.321429\n",
       "inquisitr             107   51  0.322785\n",
       "player                  2    1  0.333333\n",
       "calgarysun              2    1  0.333333\n",
       "entertainmentdaily      4    2  0.333333\n",
       "...                   ...  ...       ...\n",
       "her                     1   11  0.916667\n",
       "allure                  3   35  0.921053\n",
       "justjaredjr             1   12  0.923077\n",
       "today                  15  180  0.923077\n",
       "tennessean              1   12  0.923077\n",
       "politifact              2   24  0.923077\n",
       "glamour                 7   88  0.926316\n",
       "bravotv                11  147  0.930380\n",
       "blogspot                2   29  0.935484\n",
       "tvguide                 2   29  0.935484\n",
       "hola                    1   15  0.937500\n",
       "reuters                 1   15  0.937500\n",
       "essence                 1   16  0.941176\n",
       "newslocker              1   17  0.944444\n",
       "bbc                     4   70  0.945946\n",
       "popculture              4   74  0.948718\n",
       "hellogiggles            4   75  0.949367\n",
       "tvinsider               1   20  0.952381\n",
       "w3livenews              1   21  0.954545\n",
       "kardashiantoday         1   23  0.958333\n",
       "wikia                   1   25  0.961538\n",
       "stylecaster             1   29  0.966667\n",
       "indiewire               1   30  0.967742\n",
       "upi                     2   67  0.971014\n",
       "biphoo                  1   34  0.971429\n",
       "medium                  3  103  0.971698\n",
       "theworldnews            1   40  0.975610\n",
       "youtube                 1   46  0.978723\n",
       "scoopnest               1   49  0.980000\n",
       "tvline                  1   71  0.986111\n",
       "\n",
       "[378 rows x 3 columns]"
      ]
     },
     "execution_count": 23,
     "metadata": {},
     "output_type": "execute_result"
    }
   ],
   "source": [
    "#create df_sum dataframe to quantify the counts of true vs fake articles by domain, as well\n",
    "#as the truthfulness of the site, given by %true column\n",
    "df_sum = pd.pivot_table(df,index='domain',columns='class',fill_value=0,aggfunc={'domain':'count'})\n",
    "df_sum['%true'] = df_sum.apply(lambda row: row[1]/(row[0]+row[1]),axis=1)\n",
    "df_sum[(df_sum['%true']!=1)&(df_sum['%true']!=0)].sort_values(by='%true')"
   ]
  },
  {
   "cell_type": "markdown",
   "metadata": {},
   "source": [
    "Pulling up the rear, we can see hollywoodlife and yourtango as some of the worst sites for fake news. On the other end, we can see more reputable sites like youtube and bbc mostly publish true stories. It is interesting to note the domains that have a proclivity for fake news, but each article should be judged on its own merit, not dismissed because it comes from a site that publishes lots of fake news articles. This would be an example of the genetic fallacy, and we want to avoid that."
   ]
  },
  {
   "cell_type": "code",
   "execution_count": 24,
   "metadata": {},
   "outputs": [
    {
     "data": {
      "text/plain": [
       "0.79"
      ]
     },
     "execution_count": 24,
     "metadata": {},
     "output_type": "execute_result"
    }
   ],
   "source": [
    "#what is the purity of the dataset?\n",
    "round(df_sum[(df_sum['%true']==1)|(df_sum['%true']==0)].shape[0] / df_sum.shape[0],2)"
   ]
  },
  {
   "cell_type": "markdown",
   "metadata": {},
   "source": [
    "### Word Cloud"
   ]
  },
  {
   "cell_type": "markdown",
   "metadata": {},
   "source": [
    "Let's generate a couple of word clouds to get a visual idea of the most common words from the Politifact sample."
   ]
  },
  {
   "cell_type": "code",
   "execution_count": 25,
   "metadata": {},
   "outputs": [
    {
     "data": {
      "image/png": "[encoded data removed]",
      "text/plain": [
       "<Figure size 576x396 with 1 Axes>"
      ]
     },
     "metadata": {},
     "output_type": "display_data"
    }
   ],
   "source": [
    "from wordcloud import WordCloud\n",
    "import random\n",
    "#build list of stop words\n",
    "stop_words = stopwords.words('english')\n",
    "#function to pass to color_func to change default wordcloud colors\n",
    "def grey_color_func(word, font_size, position, orientation, random_state=None,\n",
    "                    **kwargs):\n",
    "    return \"hsl(0, 0%%, %d%%)\" % random.randint(60, 100)\n",
    "\n",
    "# Generate a word cloud image for real news from Politifact sample\n",
    "wc = WordCloud(max_words=200,stopwords=stop_words)\n",
    "text_pol_real = df_pol_real.text.str.cat(sep=' ')\n",
    "wordcloud = wc.generate(text_pol_real)\n",
    "\n",
    "# Display the generated image:\n",
    "# the matplotlib way:\n",
    "# lower max_font_size\n",
    "wordcloud = WordCloud(max_font_size=40).generate(text_pol_real)\n",
    "plt.figure()\n",
    "plt.imshow(wordcloud.recolor(color_func=grey_color_func, random_state=3), interpolation=\"bilinear\")\n",
    "plt.axis(\"off\")\n",
    "plt.savefig('./Images/realwordcloud.png',format='png')\n",
    "plt.show()"
   ]
  },
  {
   "cell_type": "code",
   "execution_count": 26,
   "metadata": {},
   "outputs": [
    {
     "data": {
      "image/png": "[encoded data removed]",
      "text/plain": [
       "<Figure size 576x396 with 1 Axes>"
      ]
     },
     "metadata": {},
     "output_type": "display_data"
    }
   ],
   "source": [
    "# Generate a word cloud image for Fake News from Politifact sample\n",
    "wc = WordCloud(max_words=200,stopwords=stop_words)\n",
    "text_pol_fake = df_pol_fake.text.str.cat(sep=' ')\n",
    "wordcloud = wc.generate(text_pol_fake)\n",
    "\n",
    "# Display the generated image:\n",
    "# the matplotlib way:\n",
    "# lower max_font_size\n",
    "wordcloud = WordCloud(max_font_size=40).generate(text_pol_fake)\n",
    "plt.figure()\n",
    "plt.imshow(wordcloud.recolor(color_func=grey_color_func, random_state=3), interpolation=\"bilinear\")\n",
    "plt.axis(\"off\")\n",
    "plt.savefig('./Images/fakewordcloud.png',format='png')\n",
    "plt.show()"
   ]
  },
  {
   "cell_type": "markdown",
   "metadata": {},
   "source": [
    "### Zipf's law"
   ]
  },
  {
   "cell_type": "markdown",
   "metadata": {},
   "source": [
    "We want to run a statistical test to find whether our corpus roughly follows the famous Zipf's law. We also want to see if using Zipf's law will help in detecting fake news by comparing the distribution of word tokens in our documents vs what we would expect assuming a Zipf distribution."
   ]
  },
  {
   "cell_type": "markdown",
   "metadata": {},
   "source": [
    "generate Zipf distribution using P(w) = 1 / R(w)^1.07"
   ]
  },
  {
   "cell_type": "code",
   "execution_count": 27,
   "metadata": {},
   "outputs": [],
   "source": [
    "#generate word counts, real news\n",
    "df_realcounts = data.wordcounts(df_pol_real.text)\n",
    "df_realcounts.reset_index(drop=True,inplace=True)\n",
    "#total word occurences\n",
    "total = df_realcounts['counts'].sum()"
   ]
  },
  {
   "cell_type": "code",
   "execution_count": 28,
   "metadata": {},
   "outputs": [],
   "source": [
    "#generate expected counts from zipf distribution\n",
    "df_realcounts['zipf_counts'] = pd.Series(total/(np.array(range(len(df_realcounts)))+1)**1.07)\n",
    "#scale zipf to empirical scale\n",
    "scale_factor =  df_realcounts.counts[0] / df_realcounts.zipf_counts[0]\n",
    "df_realcounts['zipf_counts'] = df_realcounts['zipf_counts'] * scale_factor"
   ]
  },
  {
   "cell_type": "code",
   "execution_count": 29,
   "metadata": {
    "scrolled": true
   },
   "outputs": [
    {
     "data": {
      "text/html": [
       "<div>\n",
       "<style scoped>\n",
       "    .dataframe tbody tr th:only-of-type {\n",
       "        vertical-align: middle;\n",
       "    }\n",
       "\n",
       "    .dataframe tbody tr th {\n",
       "        vertical-align: top;\n",
       "    }\n",
       "\n",
       "    .dataframe thead th {\n",
       "        text-align: right;\n",
       "    }\n",
       "</style>\n",
       "<table border=\"1\" class=\"dataframe\">\n",
       "  <thead>\n",
       "    <tr style=\"text-align: right;\">\n",
       "      <th></th>\n",
       "      <th>word</th>\n",
       "      <th>counts</th>\n",
       "      <th>zipf_counts</th>\n",
       "    </tr>\n",
       "  </thead>\n",
       "  <tbody>\n",
       "    <tr>\n",
       "      <th>0</th>\n",
       "      <td>the</td>\n",
       "      <td>52373</td>\n",
       "      <td>52373.000000</td>\n",
       "    </tr>\n",
       "    <tr>\n",
       "      <th>1</th>\n",
       "      <td>to</td>\n",
       "      <td>36021</td>\n",
       "      <td>24946.254936</td>\n",
       "    </tr>\n",
       "    <tr>\n",
       "      <th>2</th>\n",
       "      <td>and</td>\n",
       "      <td>31883</td>\n",
       "      <td>16165.446666</td>\n",
       "    </tr>\n",
       "    <tr>\n",
       "      <th>3</th>\n",
       "      <td>of</td>\n",
       "      <td>26180</td>\n",
       "      <td>11882.375180</td>\n",
       "    </tr>\n",
       "    <tr>\n",
       "      <th>4</th>\n",
       "      <td>that</td>\n",
       "      <td>25116</td>\n",
       "      <td>9358.571161</td>\n",
       "    </tr>\n",
       "  </tbody>\n",
       "</table>\n",
       "</div>"
      ],
      "text/plain": [
       "   word  counts   zipf_counts\n",
       "0   the   52373  52373.000000\n",
       "1    to   36021  24946.254936\n",
       "2   and   31883  16165.446666\n",
       "3    of   26180  11882.375180\n",
       "4  that   25116   9358.571161"
      ]
     },
     "execution_count": 29,
     "metadata": {},
     "output_type": "execute_result"
    }
   ],
   "source": [
    "df_realcounts.head()"
   ]
  },
  {
   "cell_type": "code",
   "execution_count": 30,
   "metadata": {},
   "outputs": [],
   "source": [
    "#create empirical cumulative distribution functions (ecdf)\n",
    "emp_x_real, emp_y_real = data.ecdf(df_realcounts.counts.values)\n",
    "zipf_x_real, zipf_y_real = data.ecdf(df_realcounts.zipf_counts.values)"
   ]
  },
  {
   "cell_type": "code",
   "execution_count": 31,
   "metadata": {},
   "outputs": [
    {
     "data": {
      "image/png": "[encoded data removed]",
      "text/plain": [
       "<Figure size 576x396 with 1 Axes>"
      ]
     },
     "metadata": {},
     "output_type": "display_data"
    }
   ],
   "source": [
    "#visually compare distributions\n",
    "plt.plot(emp_x_real, emp_y_real, label='Empirical')\n",
    "plt.plot(zipf_x_real, zipf_y_real, label='Zipf')\n",
    "plt.legend(loc='lower right')\n",
    "plt.title('Politifact Real Word Probabilities vs Zipf Probabilities - Cumulative')\n",
    "plt.xlabel('Word Counts')\n",
    "plt.ylabel('Cumulative Probability')\n",
    "plt.xlim([0,50])\n",
    "plt.savefig('./Images/Zipf_real.png',format='png')"
   ]
  },
  {
   "cell_type": "code",
   "execution_count": 32,
   "metadata": {},
   "outputs": [],
   "source": [
    "#genreate word counts, fake\n",
    "df_fakecounts = data.wordcounts(df_pol_fake.text)\n",
    "df_fakecounts.reset_index(drop=True,inplace=True)\n",
    "total = df_fakecounts['counts'].sum()"
   ]
  },
  {
   "cell_type": "code",
   "execution_count": 33,
   "metadata": {},
   "outputs": [],
   "source": [
    "#generate expected counts from zipf distribution\n",
    "df_fakecounts['zipf_counts'] = pd.Series(total/(np.array(range(len(df_fakecounts)))+1)**1.07)\n",
    "#scale zipf to empirical\n",
    "scale_factor = df_fakecounts.counts[0] / df_fakecounts.zipf_counts[0]\n",
    "df_fakecounts['zipf_counts'] = df_fakecounts['zipf_counts'] * scale_factor"
   ]
  },
  {
   "cell_type": "code",
   "execution_count": 34,
   "metadata": {},
   "outputs": [
    {
     "data": {
      "text/html": [
       "<div>\n",
       "<style scoped>\n",
       "    .dataframe tbody tr th:only-of-type {\n",
       "        vertical-align: middle;\n",
       "    }\n",
       "\n",
       "    .dataframe tbody tr th {\n",
       "        vertical-align: top;\n",
       "    }\n",
       "\n",
       "    .dataframe thead th {\n",
       "        text-align: right;\n",
       "    }\n",
       "</style>\n",
       "<table border=\"1\" class=\"dataframe\">\n",
       "  <thead>\n",
       "    <tr style=\"text-align: right;\">\n",
       "      <th></th>\n",
       "      <th>word</th>\n",
       "      <th>counts</th>\n",
       "      <th>zipf_counts</th>\n",
       "    </tr>\n",
       "  </thead>\n",
       "  <tbody>\n",
       "    <tr>\n",
       "      <th>0</th>\n",
       "      <td>the</td>\n",
       "      <td>6765</td>\n",
       "      <td>6765.000000</td>\n",
       "    </tr>\n",
       "    <tr>\n",
       "      <th>1</th>\n",
       "      <td>to</td>\n",
       "      <td>3413</td>\n",
       "      <td>3222.298028</td>\n",
       "    </tr>\n",
       "    <tr>\n",
       "      <th>2</th>\n",
       "      <td>of</td>\n",
       "      <td>2921</td>\n",
       "      <td>2088.084446</td>\n",
       "    </tr>\n",
       "    <tr>\n",
       "      <th>3</th>\n",
       "      <td>and</td>\n",
       "      <td>2812</td>\n",
       "      <td>1534.841771</td>\n",
       "    </tr>\n",
       "    <tr>\n",
       "      <th>4</th>\n",
       "      <td>a</td>\n",
       "      <td>2513</td>\n",
       "      <td>1208.842990</td>\n",
       "    </tr>\n",
       "  </tbody>\n",
       "</table>\n",
       "</div>"
      ],
      "text/plain": [
       "  word  counts  zipf_counts\n",
       "0  the    6765  6765.000000\n",
       "1   to    3413  3222.298028\n",
       "2   of    2921  2088.084446\n",
       "3  and    2812  1534.841771\n",
       "4    a    2513  1208.842990"
      ]
     },
     "execution_count": 34,
     "metadata": {},
     "output_type": "execute_result"
    }
   ],
   "source": [
    "df_fakecounts.head()"
   ]
  },
  {
   "cell_type": "code",
   "execution_count": 35,
   "metadata": {},
   "outputs": [],
   "source": [
    "#generate ecdf's\n",
    "emp_x_fake, emp_y_fake = data.ecdf(df_fakecounts.counts.values)\n",
    "zipf_x_fake, zipf_y_fake = data.ecdf(df_fakecounts.zipf_counts.values)"
   ]
  },
  {
   "cell_type": "code",
   "execution_count": 36,
   "metadata": {},
   "outputs": [
    {
     "data": {
      "image/png": "[encoded data removed]",
      "text/plain": [
       "<Figure size 576x396 with 1 Axes>"
      ]
     },
     "metadata": {},
     "output_type": "display_data"
    }
   ],
   "source": [
    "#visualize results\n",
    "plt.plot(emp_x_fake, emp_y_fake, label='Empirical')\n",
    "plt.plot(zipf_x_fake, zipf_y_fake, label='Zipf')\n",
    "plt.legend(loc='lower right')\n",
    "plt.title('Politifact Fake Word Probabilities vs Zipf Probabilities - Cumulative')\n",
    "plt.xlabel('Word Counts')\n",
    "plt.ylabel('Cumulative Probability')\n",
    "plt.xlim([0,50])\n",
    "plt.savefig('./Images/Zipf_fake.png',format='png')"
   ]
  },
  {
   "cell_type": "code",
   "execution_count": 37,
   "metadata": {},
   "outputs": [
    {
     "data": {
      "text/plain": [
       "(0, 50)"
      ]
     },
     "execution_count": 37,
     "metadata": {},
     "output_type": "execute_result"
    },
    {
     "data": {
      "image/png": "[encoded data removed]",
      "text/plain": [
       "<Figure size 576x396 with 1 Axes>"
      ]
     },
     "metadata": {},
     "output_type": "display_data"
    }
   ],
   "source": [
    "#visually compare empirical distributions to each other\n",
    "plt.plot(emp_x_real, emp_y_real, label='Empirical - Real')\n",
    "plt.plot(emp_x_fake, emp_y_fake, label='Empirical - Fake')\n",
    "plt.legend(loc='lower right')\n",
    "plt.title('Politifact Real vs Fake Word Probabilities - Cumulative')\n",
    "plt.xlabel('Word Counts')\n",
    "plt.ylabel('Cumulative Probability')\n",
    "plt.xlim([0,50])"
   ]
  },
  {
   "cell_type": "code",
   "execution_count": 38,
   "metadata": {},
   "outputs": [
    {
     "data": {
      "text/plain": [
       "28.34"
      ]
     },
     "execution_count": 38,
     "metadata": {},
     "output_type": "execute_result"
    }
   ],
   "source": [
    "#use trapezoidal rule to evaluate the fit of the distributions \n",
    "#difference in area under the curve shows deviation from the Zipf, lower is better\n",
    "real_fit = np.trapz(y=zipf_y_real,x=zipf_x_real) - np.trapz(y=emp_y_real,x=emp_x_real)\n",
    "round(real_fit,2)"
   ]
  },
  {
   "cell_type": "code",
   "execution_count": 39,
   "metadata": {},
   "outputs": [
    {
     "data": {
      "text/plain": [
       "5.85"
      ]
     },
     "execution_count": 39,
     "metadata": {},
     "output_type": "execute_result"
    }
   ],
   "source": [
    "fake_fit = np.trapz(y=zipf_y_fake,x=zipf_x_fake) - np.trapz(y=emp_y_fake,x=emp_x_fake)\n",
    "round(fake_fit,2)"
   ]
  },
  {
   "cell_type": "markdown",
   "metadata": {},
   "source": [
    "Interestingly, both real and fake news from politifact track well with Zipf but not in any exact sense. Fake news appears to track Zipf closer than real, both visually and numerically from the trapezoidal rule. This is surprising since the expectation was to find that fake news does not follow the Zipf distribution since it is by definition artificial use of language. Zipf's power law distribution may not be helpful in identifying real vs fake news. Let's give Machine Learning a try."
   ]
  },
  {
   "cell_type": "markdown",
   "metadata": {},
   "source": [
    "Now that we have explored our dataset using statistics and visualization, let's build our predictive models. We will use Naive Bayes with Bag of words as the benchmark for the BERT algorithm."
   ]
  },
  {
   "cell_type": "markdown",
   "metadata": {},
   "source": [
    "## Machine Learning"
   ]
  },
  {
   "cell_type": "markdown",
   "metadata": {},
   "source": [
    "### Preprocessing"
   ]
  },
  {
   "cell_type": "code",
   "execution_count": 40,
   "metadata": {},
   "outputs": [],
   "source": [
    "#make vectorizer\n",
    "vectorizer = CountVectorizer(analyzer='word',token_pattern=r'\\w+', stop_words=stop_words, min_df=2)\n",
    "#fit text\n",
    "vectorizer.fit(df.text)\n",
    "#transform to sparse array\n",
    "fitted = vectorizer.transform(df.text)"
   ]
  },
  {
   "cell_type": "markdown",
   "metadata": {},
   "source": [
    "### Multinomial Naive Bayes"
   ]
  },
  {
   "cell_type": "code",
   "execution_count": 41,
   "metadata": {},
   "outputs": [
    {
     "data": {
      "text/plain": [
       "0.8282457381623036"
      ]
     },
     "execution_count": 41,
     "metadata": {},
     "output_type": "execute_result"
    }
   ],
   "source": [
    "from sklearn.model_selection import train_test_split, cross_val_score\n",
    "from sklearn.naive_bayes import MultinomialNB\n",
    "\n",
    "# Convert to dense numpy array\n",
    "X = fitted.toarray()\n",
    "#make response variables\n",
    "y = df['class'].values\n",
    "#split testing and training data\n",
    "X_train, X_test, y_train, y_test = train_test_split(X, y,test_size=0.2,random_state=42)\n",
    "#instantiate naive bayes classifier\n",
    "clf = MultinomialNB()\n",
    "#fit data using vectorized words and compute cross validated score\n",
    "clf.fit(X_train,y_train)\n",
    "clf_score = np.mean(cross_val_score(clf,X_test,y_test,cv=5))\n",
    "clf_score"
   ]
  },
  {
   "cell_type": "code",
   "execution_count": null,
   "metadata": {},
   "outputs": [],
   "source": []
  },
  {
   "cell_type": "code",
   "execution_count": null,
   "metadata": {},
   "outputs": [],
   "source": []
  },
  {
   "cell_type": "code",
   "execution_count": null,
   "metadata": {},
   "outputs": [],
   "source": []
  },
  {
   "cell_type": "markdown",
   "metadata": {},
   "source": [
    "### Google BERT"
   ]
  },
  {
   "cell_type": "markdown",
   "metadata": {},
   "source": [
    "Prepare news.tsv for bert algorithm"
   ]
  },
  {
   "cell_type": "code",
   "execution_count": 147,
   "metadata": {},
   "outputs": [
    {
     "data": {
      "text/html": [
       "<div>\n",
       "<style scoped>\n",
       "    .dataframe tbody tr th:only-of-type {\n",
       "        vertical-align: middle;\n",
       "    }\n",
       "\n",
       "    .dataframe tbody tr th {\n",
       "        vertical-align: top;\n",
       "    }\n",
       "\n",
       "    .dataframe thead th {\n",
       "        text-align: right;\n",
       "    }\n",
       "</style>\n",
       "<table border=\"1\" class=\"dataframe\">\n",
       "  <thead>\n",
       "    <tr style=\"text-align: right;\">\n",
       "      <th></th>\n",
       "      <th>id</th>\n",
       "      <th>label</th>\n",
       "      <th>alpha</th>\n",
       "      <th>text</th>\n",
       "    </tr>\n",
       "  </thead>\n",
       "  <tbody>\n",
       "    <tr>\n",
       "      <th>0</th>\n",
       "      <td>0</td>\n",
       "      <td>1</td>\n",
       "      <td>a</td>\n",
       "      <td>if you want to do business with miller industr...</td>\n",
       "    </tr>\n",
       "    <tr>\n",
       "      <th>1</th>\n",
       "      <td>1</td>\n",
       "      <td>1</td>\n",
       "      <td>a</td>\n",
       "      <td>remarks of senator barack obama: apostolic chu...</td>\n",
       "    </tr>\n",
       "    <tr>\n",
       "      <th>2</th>\n",
       "      <td>2</td>\n",
       "      <td>1</td>\n",
       "      <td>a</td>\n",
       "      <td>one in four\\n\\ncongressman joe pitts blocked u...</td>\n",
       "    </tr>\n",
       "    <tr>\n",
       "      <th>3</th>\n",
       "      <td>3</td>\n",
       "      <td>1</td>\n",
       "      <td>a</td>\n",
       "      <td>on sept. 28, pastors from 20 states will give ...</td>\n",
       "    </tr>\n",
       "    <tr>\n",
       "      <th>4</th>\n",
       "      <td>4</td>\n",
       "      <td>1</td>\n",
       "      <td>a</td>\n",
       "      <td>washington – the republican national committee...</td>\n",
       "    </tr>\n",
       "  </tbody>\n",
       "</table>\n",
       "</div>"
      ],
      "text/plain": [
       "   id  label alpha                                               text\n",
       "0   0      1     a  if you want to do business with miller industr...\n",
       "1   1      1     a  remarks of senator barack obama: apostolic chu...\n",
       "2   2      1     a  one in four\\n\\ncongressman joe pitts blocked u...\n",
       "3   3      1     a  on sept. 28, pastors from 20 states will give ...\n",
       "4   4      1     a  washington – the republican national committee..."
      ]
     },
     "execution_count": 147,
     "metadata": {},
     "output_type": "execute_result"
    }
   ],
   "source": [
    "df_bert = pd.DataFrame({'id':df.index,'label':df['class'],'alpha':'a','text':df.text})\n",
    "df_bert.text = df_bert.apply(lambda row: row.text.lower(), axis=1)\n",
    "df_bert.head()"
   ]
  },
  {
   "cell_type": "code",
   "execution_count": 149,
   "metadata": {},
   "outputs": [],
   "source": [
    "df_bert.text = df_bert.text.apply(lambda t: t.replace('\\n',' '))"
   ]
  },
  {
   "cell_type": "code",
   "execution_count": 150,
   "metadata": {},
   "outputs": [],
   "source": [
    "df_bert_train, df_bert_dev = train_test_split(df_bert,test_size=0.2,random_state=42)"
   ]
  },
  {
   "cell_type": "code",
   "execution_count": 151,
   "metadata": {},
   "outputs": [],
   "source": [
    "#split df_bert_dev into test and dev df's\n",
    "len_bert = df_bert_dev.shape[0]\n",
    "limit = int((len_bert%2!=0)+len_bert/2)\n",
    "df_bert_test = df_bert_dev[:limit]\n",
    "df_bert_dev = df_bert_dev[limit:]"
   ]
  },
  {
   "cell_type": "code",
   "execution_count": 152,
   "metadata": {},
   "outputs": [
    {
     "data": {
      "text/plain": [
       "746.2843998520436"
      ]
     },
     "execution_count": 152,
     "metadata": {},
     "output_type": "execute_result"
    }
   ],
   "source": [
    "#lens = df.text.apply(lambda t: word_tokenize(t))\n",
    "len_list = [len(sent) for sent in lens]\n",
    "np.mean(len_list)"
   ]
  },
  {
   "cell_type": "code",
   "execution_count": 153,
   "metadata": {},
   "outputs": [
    {
     "data": {
      "text/html": [
       "<div>\n",
       "<style scoped>\n",
       "    .dataframe tbody tr th:only-of-type {\n",
       "        vertical-align: middle;\n",
       "    }\n",
       "\n",
       "    .dataframe tbody tr th {\n",
       "        vertical-align: top;\n",
       "    }\n",
       "\n",
       "    .dataframe thead th {\n",
       "        text-align: right;\n",
       "    }\n",
       "</style>\n",
       "<table border=\"1\" class=\"dataframe\">\n",
       "  <thead>\n",
       "    <tr style=\"text-align: right;\">\n",
       "      <th></th>\n",
       "      <th>id</th>\n",
       "      <th>text</th>\n",
       "    </tr>\n",
       "  </thead>\n",
       "  <tbody>\n",
       "    <tr>\n",
       "      <th>0</th>\n",
       "      <td>14498</td>\n",
       "      <td>ratings declined this season, as the show shif...</td>\n",
       "    </tr>\n",
       "    <tr>\n",
       "      <th>1</th>\n",
       "      <td>17916</td>\n",
       "      <td>i apologize to people magazine for calling the...</td>\n",
       "    </tr>\n",
       "    <tr>\n",
       "      <th>2</th>\n",
       "      <td>5244</td>\n",
       "      <td>kim kardashian west is without her longtime ri...</td>\n",
       "    </tr>\n",
       "    <tr>\n",
       "      <th>3</th>\n",
       "      <td>21458</td>\n",
       "      <td>talk about making lemonade from lemons. ariana...</td>\n",
       "    </tr>\n",
       "    <tr>\n",
       "      <th>4</th>\n",
       "      <td>13064</td>\n",
       "      <td>her emmy-winning show this is us has been rene...</td>\n",
       "    </tr>\n",
       "  </tbody>\n",
       "</table>\n",
       "</div>"
      ],
      "text/plain": [
       "      id                                               text\n",
       "0  14498  ratings declined this season, as the show shif...\n",
       "1  17916  i apologize to people magazine for calling the...\n",
       "2   5244  kim kardashian west is without her longtime ri...\n",
       "3  21458  talk about making lemonade from lemons. ariana...\n",
       "4  13064  her emmy-winning show this is us has been rene..."
      ]
     },
     "execution_count": 153,
     "metadata": {},
     "output_type": "execute_result"
    }
   ],
   "source": [
    "df_bert_test = df_bert_test.drop(columns=['label','alpha']).reset_index(drop=True)\n",
    "df_bert_test.head()"
   ]
  },
  {
   "cell_type": "code",
   "execution_count": 154,
   "metadata": {},
   "outputs": [],
   "source": [
    "#save to .tsv\n",
    "df_bert_train.to_csv('/Users/carlosbrown/Documents/Springboard/Capstone Project 2/bert/data/train.tsv',sep='\\t',index=False,header=False)\n",
    "df_bert_dev.to_csv('/Users/carlosbrown/Documents/Springboard/Capstone Project 2/bert/data/dev.tsv',sep='\\t',index=False,header=False)\n",
    "df_bert_test.to_csv('/Users/carlosbrown/Documents/Springboard/Capstone Project 2/bert/data/test.tsv',sep='\\t',index=False,header=True)"
   ]
  },
  {
   "cell_type": "markdown",
   "metadata": {},
   "source": [
    "BERT runs on the Google Cloud Platform"
   ]
  },
  {
   "cell_type": "markdown",
   "metadata": {},
   "source": [
    "## Conclusion"
   ]
  },
  {
   "cell_type": "markdown",
   "metadata": {},
   "source": [
    "In progress..."
   ]
  },
  {
   "cell_type": "code",
   "execution_count": null,
   "metadata": {},
   "outputs": [],
   "source": []
  },
  {
   "cell_type": "code",
   "execution_count": null,
   "metadata": {},
   "outputs": [],
   "source": []
  }
 ],
 "metadata": {
  "kernelspec": {
   "display_name": "Python 3",
   "language": "python",
   "name": "python3"
  },
  "language_info": {
   "codemirror_mode": {
    "name": "ipython",
    "version": 3
   },
   "file_extension": ".py",
   "mimetype": "text/x-python",
   "name": "python",
   "nbconvert_exporter": "python",
   "pygments_lexer": "ipython3",
   "version": "3.7.1"
  },
  "toc": {
   "base_numbering": 1,
   "nav_menu": {},
   "number_sections": true,
   "sideBar": true,
   "skip_h1_title": false,
   "title_cell": "Table of Contents",
   "title_sidebar": "Contents",
   "toc_cell": false,
   "toc_position": {
    "height": "calc(100% - 180px)",
    "left": "10px",
    "top": "150px",
    "width": "250px"
   },
   "toc_section_display": true,
   "toc_window_display": true
  }
 },
 "nbformat": 4,
 "nbformat_minor": 2
}
